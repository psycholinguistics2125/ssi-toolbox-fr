{
 "cells": [
  {
   "cell_type": "markdown",
   "metadata": {},
   "source": [
    "## SSI Toolbox Tutorial: Loading Data\n",
    "\n",
    "In this tutorial, we'll cover how to use the SSI Toolbox to load data for analysis.\n",
    "\n",
    "### Prerequisites\n",
    "\n",
    "Make sure you have the necessary dependencies installed:\n",
    "\n",
    "```bash\n",
    "pip install ssi-toolbox-fr\n",
    "```\n",
    "\n"
   ]
  },
  {
   "cell_type": "code",
   "execution_count": 2,
   "metadata": {},
   "outputs": [],
   "source": [
    "%load_ext autoreload\n",
    "\n",
    "%autoreload\n",
    "\n",
    "import sys\n",
    "sys.path.insert(0, \"..\")  \n",
    "\n",
    "import pickle\n",
    "import pandas as pd\n",
    "\n",
    "## Import Required Modules\n",
    "#from ssi_toolbox.data_loader import load_interviewer_data, load_respondant_data, load_interview_datas, load_interview_guide\n",
    "from ssi_toolbox.data_classes import Corpus, Utterance\n",
    "from ssi_toolbox.features import compute_features\n",
    "\n",
    "## Load condifugation\n",
    "from ssi_toolbox.utils import load_config, read_csv_auto, load_model, split_into_sentences, flatten_list\n",
    "\n",
    "# Load configuration from config.yaml\n",
    "config_path = \"../config.yaml\"\n",
    "config = load_config(config_path)\n",
    "\n",
    "# load model\n",
    "\n"
   ]
  },
  {
   "cell_type": "code",
   "execution_count": null,
   "metadata": {},
   "outputs": [],
   "source": [
    "## to create the corpus\n",
    "load = False\n",
    "if load :\n",
    "    with open(\"13_novembre_phase1.pkl\", 'rb') as file:\n",
    "        corpus = pickle.load(file)\n",
    "else :\n",
    "    trf_model, w2v_model, fasttext_model = load_model(config, model_name=\"sentence_sim\"), load_model(config, model_name=\"w2v\"), load_model(config, model_name=\"fasttext\")\n",
    "    corpus = Corpus(config_path=config_path)\n",
    "    corpus.compute_sentence_vectors(trf_model, w2v_model, fasttext_model)\n",
    "    corpus.corpus = compute_features(corpus.corpus)\n",
    "    with open(\"13_novembre_phase1.pkl\", 'wb') as file:\n",
    "        pickle.dump(corpus, file)"
   ]
  },
  {
   "cell_type": "code",
   "execution_count": 3,
   "metadata": {},
   "outputs": [
    {
     "data": {
      "text/html": [
       "<pre style=\"white-space:pre;overflow-x:auto;line-height:normal;font-family:Menlo,'DejaVu Sans Mono',consolas,'Courier New',monospace\"><span style=\"color: #7fbfbf; text-decoration-color: #7fbfbf\">[19:24:19] </span><span style=\"color: #000080; text-decoration-color: #000080\">INFO    </span> Loaded interviewer metadata !                                               <a href=\"file:///home/robin/Code_repo/psycholinguistic2125/ssi-toolbox-fr/tutos/../ssi_toolbox/data_classes.py\" target=\"_blank\"><span style=\"color: #7f7f7f; text-decoration-color: #7f7f7f\">data_classes.py</span></a><span style=\"color: #7f7f7f; text-decoration-color: #7f7f7f\">:</span><a href=\"file:///home/robin/Code_repo/psycholinguistic2125/ssi-toolbox-fr/tutos/../ssi_toolbox/data_classes.py#146\" target=\"_blank\"><span style=\"color: #7f7f7f; text-decoration-color: #7f7f7f\">146</span></a>\n",
       "</pre>\n"
      ],
      "text/plain": [
       "\u001b[2;36m[19:24:19]\u001b[0m\u001b[2;36m \u001b[0m\u001b[34mINFO    \u001b[0m Loaded interviewer metadata !                                               \u001b]8;id=392225;file:///home/robin/Code_repo/psycholinguistic2125/ssi-toolbox-fr/tutos/../ssi_toolbox/data_classes.py\u001b\\\u001b[2mdata_classes.py\u001b[0m\u001b]8;;\u001b\\\u001b[2m:\u001b[0m\u001b]8;id=729706;file:///home/robin/Code_repo/psycholinguistic2125/ssi-toolbox-fr/tutos/../ssi_toolbox/data_classes.py#146\u001b\\\u001b[2m146\u001b[0m\u001b]8;;\u001b\\\n"
      ]
     },
     "metadata": {},
     "output_type": "display_data"
    },
    {
     "data": {
      "text/html": [
       "<pre style=\"white-space:pre;overflow-x:auto;line-height:normal;font-family:Menlo,'DejaVu Sans Mono',consolas,'Courier New',monospace\"><span style=\"color: #7fbfbf; text-decoration-color: #7fbfbf\">           </span><span style=\"color: #000080; text-decoration-color: #000080\">INFO    </span> Loaded respondant metadata !                                                <a href=\"file:///home/robin/Code_repo/psycholinguistic2125/ssi-toolbox-fr/tutos/../ssi_toolbox/data_classes.py\" target=\"_blank\"><span style=\"color: #7f7f7f; text-decoration-color: #7f7f7f\">data_classes.py</span></a><span style=\"color: #7f7f7f; text-decoration-color: #7f7f7f\">:</span><a href=\"file:///home/robin/Code_repo/psycholinguistic2125/ssi-toolbox-fr/tutos/../ssi_toolbox/data_classes.py#151\" target=\"_blank\"><span style=\"color: #7f7f7f; text-decoration-color: #7f7f7f\">151</span></a>\n",
       "</pre>\n"
      ],
      "text/plain": [
       "\u001b[2;36m          \u001b[0m\u001b[2;36m \u001b[0m\u001b[34mINFO    \u001b[0m Loaded respondant metadata !                                                \u001b]8;id=786728;file:///home/robin/Code_repo/psycholinguistic2125/ssi-toolbox-fr/tutos/../ssi_toolbox/data_classes.py\u001b\\\u001b[2mdata_classes.py\u001b[0m\u001b]8;;\u001b\\\u001b[2m:\u001b[0m\u001b]8;id=520700;file:///home/robin/Code_repo/psycholinguistic2125/ssi-toolbox-fr/tutos/../ssi_toolbox/data_classes.py#151\u001b\\\u001b[2m151\u001b[0m\u001b]8;;\u001b\\\n"
      ]
     },
     "metadata": {},
     "output_type": "display_data"
    },
    {
     "data": {
      "text/html": [
       "<pre style=\"white-space:pre;overflow-x:auto;line-height:normal;font-family:Menlo,'DejaVu Sans Mono',consolas,'Courier New',monospace\"><span style=\"color: #7fbfbf; text-decoration-color: #7fbfbf\">[19:31:05] </span><span style=\"color: #000080; text-decoration-color: #000080\">INFO    </span> Loaded interview list !                                                     <a href=\"file:///home/robin/Code_repo/psycholinguistic2125/ssi-toolbox-fr/tutos/../ssi_toolbox/data_classes.py\" target=\"_blank\"><span style=\"color: #7f7f7f; text-decoration-color: #7f7f7f\">data_classes.py</span></a><span style=\"color: #7f7f7f; text-decoration-color: #7f7f7f\">:</span><a href=\"file:///home/robin/Code_repo/psycholinguistic2125/ssi-toolbox-fr/tutos/../ssi_toolbox/data_classes.py#157\" target=\"_blank\"><span style=\"color: #7f7f7f; text-decoration-color: #7f7f7f\">157</span></a>\n",
       "</pre>\n"
      ],
      "text/plain": [
       "\u001b[2;36m[19:31:05]\u001b[0m\u001b[2;36m \u001b[0m\u001b[34mINFO    \u001b[0m Loaded interview list !                                                     \u001b]8;id=736411;file:///home/robin/Code_repo/psycholinguistic2125/ssi-toolbox-fr/tutos/../ssi_toolbox/data_classes.py\u001b\\\u001b[2mdata_classes.py\u001b[0m\u001b]8;;\u001b\\\u001b[2m:\u001b[0m\u001b]8;id=550803;file:///home/robin/Code_repo/psycholinguistic2125/ssi-toolbox-fr/tutos/../ssi_toolbox/data_classes.py#157\u001b\\\u001b[2m157\u001b[0m\u001b]8;;\u001b\\\n"
      ]
     },
     "metadata": {},
     "output_type": "display_data"
    }
   ],
   "source": [
    "# simply load the corpus, aggregate and lemmatize all data\n",
    "\n",
    "corpus = Corpus(config_path=config_path)"
   ]
  },
  {
   "cell_type": "markdown",
   "metadata": {},
   "source": [
    "## Load model from the hub to enrich the utterances"
   ]
  },
  {
   "cell_type": "code",
   "execution_count": 19,
   "metadata": {},
   "outputs": [],
   "source": [
    "from setfit import SetFitModel\n",
    "\n",
    "# Download from Hub and run inference\n",
    "model = SetFitModel.from_pretrained(\"binbin83/setfit-MiniLM-dialog-act-13nov\")\n",
    "labels_dict = {'Introductory': 0, 'FollowUp': 1, 'Probing': 2, 'Specifying': 3, 'Structuring': 4, 'DirectQuestion': 5, 'Interpreting': 6, 'Ending': 7}\n",
    "# Run inference\n",
    "preds = model([\"Vous pouvez continuer\", \"Pouvez-vous me dire précisément quel a été l'odre chronologique des événements ?\"])\n",
    "labels = [[[f for f, p in zip(labels_dict, ps) if p] for ps in [pred]] for pred in preds ]\n"
   ]
  },
  {
   "cell_type": "code",
   "execution_count": 81,
   "metadata": {},
   "outputs": [],
   "source": [
    "model = SetFitModel.from_pretrained(\"binbin83/setfit-MiniLM-dialog-themes-13-nov\")\n",
    "labels_dict = {'CauseConsequences': 0, 'PersonalExperience': 1, 'Connaissance': 2, 'Other': 3, 'Reconstitution': 4, 'Temps': 5, 'Reaction': 6, 'Nouvelle': 7, 'Media': 8, 'Lieux': 9}"
   ]
  },
  {
   "cell_type": "code",
   "execution_count": 94,
   "metadata": {},
   "outputs": [],
   "source": []
  }
 ],
 "metadata": {
  "kernelspec": {
   "display_name": "ssi_toolbox",
   "language": "python",
   "name": "python3"
  },
  "language_info": {
   "codemirror_mode": {
    "name": "ipython",
    "version": 3
   },
   "file_extension": ".py",
   "mimetype": "text/x-python",
   "name": "python",
   "nbconvert_exporter": "python",
   "pygments_lexer": "ipython3",
   "version": "3.9.18"
  }
 },
 "nbformat": 4,
 "nbformat_minor": 2
}
