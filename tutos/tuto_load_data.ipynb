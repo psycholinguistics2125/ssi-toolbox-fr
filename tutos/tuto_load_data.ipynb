{
 "cells": [
  {
   "cell_type": "markdown",
   "metadata": {},
   "source": [
    "## SSI Toolbox Tutorial: Loading Data\n",
    "\n",
    "In this tutorial, we'll cover how to use the SSI Toolbox to load data for analysis.\n",
    "\n",
    "### Prerequisites\n",
    "\n",
    "Make sure you have the necessary dependencies installed:\n",
    "\n",
    "```bash\n",
    "pip install ssi-toolbox-fr\n",
    "```\n",
    "\n"
   ]
  },
  {
   "cell_type": "code",
   "execution_count": 1,
   "metadata": {},
   "outputs": [
    {
     "name": "stderr",
     "output_type": "stream",
     "text": [
      "/home/robin/env/ssi_toolbox/lib/python3.9/site-packages/tqdm/auto.py:21: TqdmWarning: IProgress not found. Please update jupyter and ipywidgets. See https://ipywidgets.readthedocs.io/en/stable/user_install.html\n",
      "  from .autonotebook import tqdm as notebook_tqdm\n"
     ]
    }
   ],
   "source": [
    "%load_ext autoreload\n",
    "\n",
    "%autoreload\n",
    "\n",
    "import sys\n",
    "sys.path.insert(0, \"..\")  \n",
    "\n",
    "import pickle\n",
    "\n",
    "## Import Required Modules\n",
    "#from ssi_toolbox.data_loader import load_interviewer_data, load_respondant_data, load_interview_datas, load_interview_guide\n",
    "from ssi_toolbox.data_classes import Corpus, Utterance\n",
    "from ssi_toolbox.features import compute_features\n",
    "\n",
    "## Load condifugation\n",
    "from ssi_toolbox.utils import load_config, read_csv_auto, load_model, split_into_sentences\n",
    "\n",
    "# Load configuration from config.yaml\n",
    "config_path = \"../config.yaml\"\n",
    "config = load_config(config_path)\n",
    "\n",
    "# load model\n",
    "\n"
   ]
  },
  {
   "cell_type": "code",
   "execution_count": 2,
   "metadata": {},
   "outputs": [],
   "source": [
    "## to create the corpus\n",
    "load = True\n",
    "if load :\n",
    "    with open(\"13_novembre_phase1.pkl\", 'rb') as file:\n",
    "        corpus = pickle.load(file)\n",
    "else :\n",
    "    trf_model, w2v_model, fasttext_model = load_model(config, model_name=\"sentence_sim\"), load_model(config, model_name=\"w2v\"), load_model(config, model_name=\"fasttext\")\n",
    "    corpus = Corpus(config_path=config_path)\n",
    "    corpus.compute_sentence_vectors(trf_model, w2v_model, fasttext_model)\n",
    "\n",
    "    with open(\"13_novembre_phase1.pkl\", 'wb') as file:\n",
    "        pickle.dump(corpus, file)"
   ]
  },
  {
   "cell_type": "code",
   "execution_count": 3,
   "metadata": {},
   "outputs": [],
   "source": [
    "corpus.corpus = compute_features(corpus.corpus)"
   ]
  },
  {
   "cell_type": "code",
   "execution_count": 6,
   "metadata": {},
   "outputs": [
    {
     "ename": "AttributeError",
     "evalue": "'DataFrame' object has no attribute 'save_corpus'",
     "output_type": "error",
     "traceback": [
      "\u001b[0;31m---------------------------------------------------------------------------\u001b[0m",
      "\u001b[0;31mAttributeError\u001b[0m                            Traceback (most recent call last)",
      "\u001b[0;32m/tmp/ipykernel_723479/2095427054.py\u001b[0m in \u001b[0;36m?\u001b[0;34m()\u001b[0m\n\u001b[0;32m----> 1\u001b[0;31m \u001b[0mcorpus\u001b[0m\u001b[0;34m.\u001b[0m\u001b[0mcorpus\u001b[0m\u001b[0;34m.\u001b[0m\u001b[0msave_corpus\u001b[0m\u001b[0;34m(\u001b[0m\u001b[0;34m\"df_13_novembre_phase1.pkl\"\u001b[0m\u001b[0;34m)\u001b[0m\u001b[0;34m\u001b[0m\u001b[0;34m\u001b[0m\u001b[0m\n\u001b[0m",
      "\u001b[0;32m~/env/ssi_toolbox/lib/python3.9/site-packages/pandas/core/generic.py\u001b[0m in \u001b[0;36m?\u001b[0;34m(self, name)\u001b[0m\n\u001b[1;32m   6200\u001b[0m             \u001b[0;32mand\u001b[0m \u001b[0mname\u001b[0m \u001b[0;32mnot\u001b[0m \u001b[0;32min\u001b[0m \u001b[0mself\u001b[0m\u001b[0;34m.\u001b[0m\u001b[0m_accessors\u001b[0m\u001b[0;34m\u001b[0m\u001b[0;34m\u001b[0m\u001b[0m\n\u001b[1;32m   6201\u001b[0m             \u001b[0;32mand\u001b[0m \u001b[0mself\u001b[0m\u001b[0;34m.\u001b[0m\u001b[0m_info_axis\u001b[0m\u001b[0;34m.\u001b[0m\u001b[0m_can_hold_identifiers_and_holds_name\u001b[0m\u001b[0;34m(\u001b[0m\u001b[0mname\u001b[0m\u001b[0;34m)\u001b[0m\u001b[0;34m\u001b[0m\u001b[0;34m\u001b[0m\u001b[0m\n\u001b[1;32m   6202\u001b[0m         ):\n\u001b[1;32m   6203\u001b[0m             \u001b[0;32mreturn\u001b[0m \u001b[0mself\u001b[0m\u001b[0;34m[\u001b[0m\u001b[0mname\u001b[0m\u001b[0;34m]\u001b[0m\u001b[0;34m\u001b[0m\u001b[0;34m\u001b[0m\u001b[0m\n\u001b[0;32m-> 6204\u001b[0;31m         \u001b[0;32mreturn\u001b[0m \u001b[0mobject\u001b[0m\u001b[0;34m.\u001b[0m\u001b[0m__getattribute__\u001b[0m\u001b[0;34m(\u001b[0m\u001b[0mself\u001b[0m\u001b[0;34m,\u001b[0m \u001b[0mname\u001b[0m\u001b[0;34m)\u001b[0m\u001b[0;34m\u001b[0m\u001b[0;34m\u001b[0m\u001b[0m\n\u001b[0m",
      "\u001b[0;31mAttributeError\u001b[0m: 'DataFrame' object has no attribute 'save_corpus'"
     ]
    }
   ],
   "source": [
    "corpus.save_corpus(\"df_13_novembre_phase1.pkl\")"
   ]
  },
  {
   "cell_type": "code",
   "execution_count": 7,
   "metadata": {},
   "outputs": [],
   "source": [
    "import pandas as pd\n",
    "df = pd.read_pickle(\"df_13_novembre_phase1.pkl\")"
   ]
  },
  {
   "cell_type": "code",
   "execution_count": 10,
   "metadata": {},
   "outputs": [
    {
     "data": {
      "text/plain": [
       "129"
      ]
     },
     "execution_count": 10,
     "metadata": {},
     "output_type": "execute_result"
    }
   ],
   "source": [
    "len(df['interviews'][0])"
   ]
  },
  {
   "cell_type": "code",
   "execution_count": 12,
   "metadata": {},
   "outputs": [
    {
     "data": {
      "text/plain": [
       "Index(['code_enq', 'enq_p1', 'enq_p2', 'enq_p3', 'annee_naissance_enq',\n",
       "       'sex_enq', 'discipline_enq', 'statut_enq', 'staff_13_nov_enq', 'code',\n",
       "       'interview_date', 'participation_p2', 'interview_location', 'age',\n",
       "       'age_norm', 'birthdate', 'sexe', 'sexe_enc', 'code_insee',\n",
       "       'code_insee_fr', 'code_insee_enc', 'education_level',\n",
       "       'education_level_enc', 'education_degree', 'marital_status', 'single',\n",
       "       'child_number', 'residence_mode', 'living_alone', 'exp_cercle',\n",
       "       'exp_critereA', 'exp_exposition', 'exp_testimony_category',\n",
       "       'history_personal', 'history_family', 'media_last_month',\n",
       "       'media_last_month_enc', 'media_nb_hour_13_14', 'media_cat_hour_13_14',\n",
       "       'communication_last_month', 'communication_last_month_enc',\n",
       "       'communication_13_14', 'estimation_nb_death',\n",
       "       'estimation_nb_death_correct', 'estimation_nb_death_correct_cat',\n",
       "       'estimation_nb_attackers', 'estimation_nb_attackers_correct',\n",
       "       'memory_before_event', 'memory_before_event_enc', 'memory_after_event',\n",
       "       'memory_after_event_enc', 'memory_event', 'memory_event_enc',\n",
       "       'memory_hour_event', 'memory_hour_event_enc',\n",
       "       'memory_crash_tgv_after_event', 'memory_crash_tgv_after_event_enc',\n",
       "       'memory_crash_plane_before_event',\n",
       "       'memory_crash_plane_before_event_enc', 'diagnosis_confidence_score',\n",
       "       'PTSD_probable', 'partial_PTSD_probable',\n",
       "       'full_or_partial_PTSD_probable', 'interviews', 'utterance_count',\n",
       "       'enqueteur_turn_count', 'enqueteur_turn_ratio', 'average_duration',\n",
       "       'average_duration_enqueteur', 'inter_speaker_turn_duration',\n",
       "       'enqueteur_utterance_length_lemma',\n",
       "       'enqueteur_average_utterance_length_lemma',\n",
       "       'enqueteur_utterance_length_token',\n",
       "       'enqueteur_average_utterance_length_token',\n",
       "       'enqueteur_utterance_length_sentences',\n",
       "       'enqueteur_average_utterance_length_sentences',\n",
       "       'previous_sentences_similarity_lemma',\n",
       "       'next_sentences_similarity_lemma', 'All sentences_similarity_lemma',\n",
       "       'previous_sentences_similarity_token',\n",
       "       'next_sentences_similarity_token', 'All sentences_similarity_token',\n",
       "       'previous_sentences_similarity_trf_vect',\n",
       "       'next_sentences_similarity_trf_vect',\n",
       "       'All sentences_similarity_trf_vect',\n",
       "       'previous_sentences_similarity_w2v_vect',\n",
       "       'next_sentences_similarity_w2v_vect',\n",
       "       'previous_sentences_similarity_fasttext_vect',\n",
       "       'next_sentences_similarity_fasttext_vect'],\n",
       "      dtype='object')"
      ]
     },
     "execution_count": 12,
     "metadata": {},
     "output_type": "execute_result"
    }
   ],
   "source": [
    "df.keys()"
   ]
  },
  {
   "cell_type": "code",
   "execution_count": 21,
   "metadata": {},
   "outputs": [
    {
     "data": {
      "text/plain": [
       "0      [0.91824824, 0.8567168, 0, 0.9049625, 0.744423...\n",
       "1      [0.72264284, 0.75111246, 0.9572569, 0.7392137,...\n",
       "2      [0.72125465, 0.7055603, 0.87654865, 0.9402762,...\n",
       "3      [0.8615172, 0.95848686, 0.94835085, 0.82624835...\n",
       "4      [0.44752175, 0.475304, 0.5785962, 0.60296285, ...\n",
       "                             ...                        \n",
       "921    [0.6329366, 0.58207095, 0.58207095, 0.6084111,...\n",
       "922    [0.93345207, 0.9418142, 0.9255619, 0.914651, 0...\n",
       "923    [0.30657703, 0.7876429, 0.8293878, 0.92232275,...\n",
       "924    [0.87282294, 0.86404324, 0.9178337, 0.9541359,...\n",
       "925    [0.6683719, 0.08846926, 0.8770143, 0.58067924,...\n",
       "Name: next_sentences_similarity_w2v_vect, Length: 926, dtype: object"
      ]
     },
     "execution_count": 21,
     "metadata": {},
     "output_type": "execute_result"
    }
   ],
   "source": [
    "df['next_sentences_similarity_w2v_vect']"
   ]
  },
  {
   "cell_type": "code",
   "execution_count": 22,
   "metadata": {},
   "outputs": [
    {
     "data": {
      "text/plain": [
       "0      [0.91824824, 0.8567168, 0, 0.9049625, 0.744423...\n",
       "1      [0.72264284, 0.75111246, 0.9572569, 0.7392137,...\n",
       "2      [0.72125465, 0.7055603, 0.87654865, 0.9402762,...\n",
       "3      [0.8615172, 0.95848686, 0.94835085, 0.82624835...\n",
       "4      [0.44752175, 0.475304, 0.5785962, 0.60296285, ...\n",
       "                             ...                        \n",
       "921    [0.6329366, 0.58207095, 0.58207095, 0.6084111,...\n",
       "922    [0.93345207, 0.9418142, 0.9255619, 0.914651, 0...\n",
       "923    [0.30657703, 0.7876429, 0.8293878, 0.92232275,...\n",
       "924    [0.87282294, 0.86404324, 0.9178337, 0.9541359,...\n",
       "925    [0.6683719, 0.08846926, 0.8770143, 0.58067924,...\n",
       "Name: previous_sentences_similarity_w2v_vect, Length: 926, dtype: object"
      ]
     },
     "execution_count": 22,
     "metadata": {},
     "output_type": "execute_result"
    }
   ],
   "source": [
    "df['previous_sentences_similarity_w2v_vect']"
   ]
  },
  {
   "cell_type": "code",
   "execution_count": 8,
   "metadata": {},
   "outputs": [
    {
     "name": "stderr",
     "output_type": "stream",
     "text": [
      "Error loading Corpus object: __init__() missing 4 required positional arguments: 'text', 'start_time', 'end_time', and 'speaker'\n"
     ]
    },
    {
     "ename": "TypeError",
     "evalue": "__init__() missing 4 required positional arguments: 'text', 'start_time', 'end_time', and 'speaker'",
     "output_type": "error",
     "traceback": [
      "\u001b[0;31m---------------------------------------------------------------------------\u001b[0m",
      "\u001b[0;31mTypeError\u001b[0m                                 Traceback (most recent call last)",
      "Cell \u001b[0;32mIn[8], line 1\u001b[0m\n\u001b[0;32m----> 1\u001b[0m df_test \u001b[38;5;241m=\u001b[39m \u001b[43mcorpus\u001b[49m\u001b[38;5;241;43m.\u001b[39;49m\u001b[43mload_corpus_from_pickle\u001b[49m\u001b[43m(\u001b[49m\u001b[38;5;124;43m\"\u001b[39;49m\u001b[38;5;124;43mdf_13_novembre_phase1.pkl\u001b[39;49m\u001b[38;5;124;43m\"\u001b[39;49m\u001b[43m)\u001b[49m\n",
      "File \u001b[0;32m~/Code_repo/psycholinguistic2125/ssi-toolbox-fr/tutos/../ssi_toolbox/data_classes.py:171\u001b[0m, in \u001b[0;36mCorpus.load_corpus_from_pickle\u001b[0;34m(self, file_path)\u001b[0m\n\u001b[1;32m    169\u001b[0m \u001b[38;5;28;01mexcept\u001b[39;00m \u001b[38;5;167;01mException\u001b[39;00m \u001b[38;5;28;01mas\u001b[39;00m e:\n\u001b[1;32m    170\u001b[0m     \u001b[38;5;28mself\u001b[39m\u001b[38;5;241m.\u001b[39mlogger\u001b[38;5;241m.\u001b[39merror(\u001b[38;5;124mf\u001b[39m\u001b[38;5;124m\"\u001b[39m\u001b[38;5;124mError loading Corpus object: \u001b[39m\u001b[38;5;132;01m{\u001b[39;00me\u001b[38;5;132;01m}\u001b[39;00m\u001b[38;5;124m\"\u001b[39m)\n\u001b[0;32m--> 171\u001b[0m     \u001b[38;5;28;01mraise\u001b[39;00m e\n\u001b[1;32m    172\u001b[0m \u001b[38;5;28;01mreturn\u001b[39;00m loaded_corpus\n",
      "File \u001b[0;32m~/Code_repo/psycholinguistic2125/ssi-toolbox-fr/tutos/../ssi_toolbox/data_classes.py:168\u001b[0m, in \u001b[0;36mCorpus.load_corpus_from_pickle\u001b[0;34m(self, file_path)\u001b[0m\n\u001b[1;32m    166\u001b[0m     loaded_corpus \u001b[38;5;241m=\u001b[39m pd\u001b[38;5;241m.\u001b[39mread_pickle(file_path)\n\u001b[1;32m    167\u001b[0m     \u001b[38;5;66;03m# convert dict to utterances\u001b[39;00m\n\u001b[0;32m--> 168\u001b[0m     loaded_corpus[\u001b[38;5;124m'\u001b[39m\u001b[38;5;124minterviews\u001b[39m\u001b[38;5;124m'\u001b[39m] \u001b[38;5;241m=\u001b[39m \u001b[43mloaded_corpus\u001b[49m\u001b[43m[\u001b[49m\u001b[38;5;124;43m'\u001b[39;49m\u001b[38;5;124;43minterviews\u001b[39;49m\u001b[38;5;124;43m'\u001b[39;49m\u001b[43m]\u001b[49m\u001b[38;5;241;43m.\u001b[39;49m\u001b[43mapply\u001b[49m\u001b[43m(\u001b[49m\u001b[38;5;28;43;01mlambda\u001b[39;49;00m\u001b[43m \u001b[49m\u001b[43mx\u001b[49m\u001b[43m:\u001b[49m\u001b[43m \u001b[49m\u001b[43m[\u001b[49m\u001b[43mUtterance\u001b[49m\u001b[43m(\u001b[49m\u001b[43m)\u001b[49m\u001b[38;5;241;43m.\u001b[39;49m\u001b[43m_from_dict\u001b[49m\u001b[43m(\u001b[49m\u001b[43mutterance\u001b[49m\u001b[43m)\u001b[49m\u001b[43m \u001b[49m\u001b[38;5;28;43;01mfor\u001b[39;49;00m\u001b[43m \u001b[49m\u001b[43mutterance\u001b[49m\u001b[43m \u001b[49m\u001b[38;5;129;43;01min\u001b[39;49;00m\u001b[43m \u001b[49m\u001b[43mx\u001b[49m\u001b[43m]\u001b[49m\u001b[43m)\u001b[49m    \n\u001b[1;32m    169\u001b[0m \u001b[38;5;28;01mexcept\u001b[39;00m \u001b[38;5;167;01mException\u001b[39;00m \u001b[38;5;28;01mas\u001b[39;00m e:\n\u001b[1;32m    170\u001b[0m     \u001b[38;5;28mself\u001b[39m\u001b[38;5;241m.\u001b[39mlogger\u001b[38;5;241m.\u001b[39merror(\u001b[38;5;124mf\u001b[39m\u001b[38;5;124m\"\u001b[39m\u001b[38;5;124mError loading Corpus object: \u001b[39m\u001b[38;5;132;01m{\u001b[39;00me\u001b[38;5;132;01m}\u001b[39;00m\u001b[38;5;124m\"\u001b[39m)\n",
      "File \u001b[0;32m~/env/ssi_toolbox/lib/python3.9/site-packages/pandas/core/series.py:4757\u001b[0m, in \u001b[0;36mSeries.apply\u001b[0;34m(self, func, convert_dtype, args, by_row, **kwargs)\u001b[0m\n\u001b[1;32m   4629\u001b[0m \u001b[38;5;28;01mdef\u001b[39;00m \u001b[38;5;21mapply\u001b[39m(\n\u001b[1;32m   4630\u001b[0m     \u001b[38;5;28mself\u001b[39m,\n\u001b[1;32m   4631\u001b[0m     func: AggFuncType,\n\u001b[0;32m   (...)\u001b[0m\n\u001b[1;32m   4636\u001b[0m     \u001b[38;5;241m*\u001b[39m\u001b[38;5;241m*\u001b[39mkwargs,\n\u001b[1;32m   4637\u001b[0m ) \u001b[38;5;241m-\u001b[39m\u001b[38;5;241m>\u001b[39m DataFrame \u001b[38;5;241m|\u001b[39m Series:\n\u001b[1;32m   4638\u001b[0m \u001b[38;5;250m    \u001b[39m\u001b[38;5;124;03m\"\"\"\u001b[39;00m\n\u001b[1;32m   4639\u001b[0m \u001b[38;5;124;03m    Invoke function on values of Series.\u001b[39;00m\n\u001b[1;32m   4640\u001b[0m \n\u001b[0;32m   (...)\u001b[0m\n\u001b[1;32m   4755\u001b[0m \u001b[38;5;124;03m    dtype: float64\u001b[39;00m\n\u001b[1;32m   4756\u001b[0m \u001b[38;5;124;03m    \"\"\"\u001b[39;00m\n\u001b[0;32m-> 4757\u001b[0m     \u001b[38;5;28;01mreturn\u001b[39;00m \u001b[43mSeriesApply\u001b[49m\u001b[43m(\u001b[49m\n\u001b[1;32m   4758\u001b[0m \u001b[43m        \u001b[49m\u001b[38;5;28;43mself\u001b[39;49m\u001b[43m,\u001b[49m\n\u001b[1;32m   4759\u001b[0m \u001b[43m        \u001b[49m\u001b[43mfunc\u001b[49m\u001b[43m,\u001b[49m\n\u001b[1;32m   4760\u001b[0m \u001b[43m        \u001b[49m\u001b[43mconvert_dtype\u001b[49m\u001b[38;5;241;43m=\u001b[39;49m\u001b[43mconvert_dtype\u001b[49m\u001b[43m,\u001b[49m\n\u001b[1;32m   4761\u001b[0m \u001b[43m        \u001b[49m\u001b[43mby_row\u001b[49m\u001b[38;5;241;43m=\u001b[39;49m\u001b[43mby_row\u001b[49m\u001b[43m,\u001b[49m\n\u001b[1;32m   4762\u001b[0m \u001b[43m        \u001b[49m\u001b[43margs\u001b[49m\u001b[38;5;241;43m=\u001b[39;49m\u001b[43margs\u001b[49m\u001b[43m,\u001b[49m\n\u001b[1;32m   4763\u001b[0m \u001b[43m        \u001b[49m\u001b[43mkwargs\u001b[49m\u001b[38;5;241;43m=\u001b[39;49m\u001b[43mkwargs\u001b[49m\u001b[43m,\u001b[49m\n\u001b[1;32m   4764\u001b[0m \u001b[43m    \u001b[49m\u001b[43m)\u001b[49m\u001b[38;5;241;43m.\u001b[39;49m\u001b[43mapply\u001b[49m\u001b[43m(\u001b[49m\u001b[43m)\u001b[49m\n",
      "File \u001b[0;32m~/env/ssi_toolbox/lib/python3.9/site-packages/pandas/core/apply.py:1209\u001b[0m, in \u001b[0;36mSeriesApply.apply\u001b[0;34m(self)\u001b[0m\n\u001b[1;32m   1206\u001b[0m     \u001b[38;5;28;01mreturn\u001b[39;00m \u001b[38;5;28mself\u001b[39m\u001b[38;5;241m.\u001b[39mapply_compat()\n\u001b[1;32m   1208\u001b[0m \u001b[38;5;66;03m# self.func is Callable\u001b[39;00m\n\u001b[0;32m-> 1209\u001b[0m \u001b[38;5;28;01mreturn\u001b[39;00m \u001b[38;5;28;43mself\u001b[39;49m\u001b[38;5;241;43m.\u001b[39;49m\u001b[43mapply_standard\u001b[49m\u001b[43m(\u001b[49m\u001b[43m)\u001b[49m\n",
      "File \u001b[0;32m~/env/ssi_toolbox/lib/python3.9/site-packages/pandas/core/apply.py:1289\u001b[0m, in \u001b[0;36mSeriesApply.apply_standard\u001b[0;34m(self)\u001b[0m\n\u001b[1;32m   1283\u001b[0m \u001b[38;5;66;03m# row-wise access\u001b[39;00m\n\u001b[1;32m   1284\u001b[0m \u001b[38;5;66;03m# apply doesn't have a `na_action` keyword and for backward compat reasons\u001b[39;00m\n\u001b[1;32m   1285\u001b[0m \u001b[38;5;66;03m# we need to give `na_action=\"ignore\"` for categorical data.\u001b[39;00m\n\u001b[1;32m   1286\u001b[0m \u001b[38;5;66;03m# TODO: remove the `na_action=\"ignore\"` when that default has been changed in\u001b[39;00m\n\u001b[1;32m   1287\u001b[0m \u001b[38;5;66;03m#  Categorical (GH51645).\u001b[39;00m\n\u001b[1;32m   1288\u001b[0m action \u001b[38;5;241m=\u001b[39m \u001b[38;5;124m\"\u001b[39m\u001b[38;5;124mignore\u001b[39m\u001b[38;5;124m\"\u001b[39m \u001b[38;5;28;01mif\u001b[39;00m \u001b[38;5;28misinstance\u001b[39m(obj\u001b[38;5;241m.\u001b[39mdtype, CategoricalDtype) \u001b[38;5;28;01melse\u001b[39;00m \u001b[38;5;28;01mNone\u001b[39;00m\n\u001b[0;32m-> 1289\u001b[0m mapped \u001b[38;5;241m=\u001b[39m \u001b[43mobj\u001b[49m\u001b[38;5;241;43m.\u001b[39;49m\u001b[43m_map_values\u001b[49m\u001b[43m(\u001b[49m\n\u001b[1;32m   1290\u001b[0m \u001b[43m    \u001b[49m\u001b[43mmapper\u001b[49m\u001b[38;5;241;43m=\u001b[39;49m\u001b[43mcurried\u001b[49m\u001b[43m,\u001b[49m\u001b[43m \u001b[49m\u001b[43mna_action\u001b[49m\u001b[38;5;241;43m=\u001b[39;49m\u001b[43maction\u001b[49m\u001b[43m,\u001b[49m\u001b[43m \u001b[49m\u001b[43mconvert\u001b[49m\u001b[38;5;241;43m=\u001b[39;49m\u001b[38;5;28;43mself\u001b[39;49m\u001b[38;5;241;43m.\u001b[39;49m\u001b[43mconvert_dtype\u001b[49m\n\u001b[1;32m   1291\u001b[0m \u001b[43m\u001b[49m\u001b[43m)\u001b[49m\n\u001b[1;32m   1293\u001b[0m \u001b[38;5;28;01mif\u001b[39;00m \u001b[38;5;28mlen\u001b[39m(mapped) \u001b[38;5;129;01mand\u001b[39;00m \u001b[38;5;28misinstance\u001b[39m(mapped[\u001b[38;5;241m0\u001b[39m], ABCSeries):\n\u001b[1;32m   1294\u001b[0m     \u001b[38;5;66;03m# GH#43986 Need to do list(mapped) in order to get treated as nested\u001b[39;00m\n\u001b[1;32m   1295\u001b[0m     \u001b[38;5;66;03m#  See also GH#25959 regarding EA support\u001b[39;00m\n\u001b[1;32m   1296\u001b[0m     \u001b[38;5;28;01mreturn\u001b[39;00m obj\u001b[38;5;241m.\u001b[39m_constructor_expanddim(\u001b[38;5;28mlist\u001b[39m(mapped), index\u001b[38;5;241m=\u001b[39mobj\u001b[38;5;241m.\u001b[39mindex)\n",
      "File \u001b[0;32m~/env/ssi_toolbox/lib/python3.9/site-packages/pandas/core/base.py:921\u001b[0m, in \u001b[0;36mIndexOpsMixin._map_values\u001b[0;34m(self, mapper, na_action, convert)\u001b[0m\n\u001b[1;32m    918\u001b[0m \u001b[38;5;28;01mif\u001b[39;00m \u001b[38;5;28misinstance\u001b[39m(arr, ExtensionArray):\n\u001b[1;32m    919\u001b[0m     \u001b[38;5;28;01mreturn\u001b[39;00m arr\u001b[38;5;241m.\u001b[39mmap(mapper, na_action\u001b[38;5;241m=\u001b[39mna_action)\n\u001b[0;32m--> 921\u001b[0m \u001b[38;5;28;01mreturn\u001b[39;00m \u001b[43malgorithms\u001b[49m\u001b[38;5;241;43m.\u001b[39;49m\u001b[43mmap_array\u001b[49m\u001b[43m(\u001b[49m\u001b[43marr\u001b[49m\u001b[43m,\u001b[49m\u001b[43m \u001b[49m\u001b[43mmapper\u001b[49m\u001b[43m,\u001b[49m\u001b[43m \u001b[49m\u001b[43mna_action\u001b[49m\u001b[38;5;241;43m=\u001b[39;49m\u001b[43mna_action\u001b[49m\u001b[43m,\u001b[49m\u001b[43m \u001b[49m\u001b[43mconvert\u001b[49m\u001b[38;5;241;43m=\u001b[39;49m\u001b[43mconvert\u001b[49m\u001b[43m)\u001b[49m\n",
      "File \u001b[0;32m~/env/ssi_toolbox/lib/python3.9/site-packages/pandas/core/algorithms.py:1814\u001b[0m, in \u001b[0;36mmap_array\u001b[0;34m(arr, mapper, na_action, convert)\u001b[0m\n\u001b[1;32m   1812\u001b[0m values \u001b[38;5;241m=\u001b[39m arr\u001b[38;5;241m.\u001b[39mastype(\u001b[38;5;28mobject\u001b[39m, copy\u001b[38;5;241m=\u001b[39m\u001b[38;5;28;01mFalse\u001b[39;00m)\n\u001b[1;32m   1813\u001b[0m \u001b[38;5;28;01mif\u001b[39;00m na_action \u001b[38;5;129;01mis\u001b[39;00m \u001b[38;5;28;01mNone\u001b[39;00m:\n\u001b[0;32m-> 1814\u001b[0m     \u001b[38;5;28;01mreturn\u001b[39;00m \u001b[43mlib\u001b[49m\u001b[38;5;241;43m.\u001b[39;49m\u001b[43mmap_infer\u001b[49m\u001b[43m(\u001b[49m\u001b[43mvalues\u001b[49m\u001b[43m,\u001b[49m\u001b[43m \u001b[49m\u001b[43mmapper\u001b[49m\u001b[43m,\u001b[49m\u001b[43m \u001b[49m\u001b[43mconvert\u001b[49m\u001b[38;5;241;43m=\u001b[39;49m\u001b[43mconvert\u001b[49m\u001b[43m)\u001b[49m\n\u001b[1;32m   1815\u001b[0m \u001b[38;5;28;01melse\u001b[39;00m:\n\u001b[1;32m   1816\u001b[0m     \u001b[38;5;28;01mreturn\u001b[39;00m lib\u001b[38;5;241m.\u001b[39mmap_infer_mask(\n\u001b[1;32m   1817\u001b[0m         values, mapper, mask\u001b[38;5;241m=\u001b[39misna(values)\u001b[38;5;241m.\u001b[39mview(np\u001b[38;5;241m.\u001b[39muint8), convert\u001b[38;5;241m=\u001b[39mconvert\n\u001b[1;32m   1818\u001b[0m     )\n",
      "File \u001b[0;32mlib.pyx:2926\u001b[0m, in \u001b[0;36mpandas._libs.lib.map_infer\u001b[0;34m()\u001b[0m\n",
      "File \u001b[0;32m~/Code_repo/psycholinguistic2125/ssi-toolbox-fr/tutos/../ssi_toolbox/data_classes.py:168\u001b[0m, in \u001b[0;36mCorpus.load_corpus_from_pickle.<locals>.<lambda>\u001b[0;34m(x)\u001b[0m\n\u001b[1;32m    166\u001b[0m     loaded_corpus \u001b[38;5;241m=\u001b[39m pd\u001b[38;5;241m.\u001b[39mread_pickle(file_path)\n\u001b[1;32m    167\u001b[0m     \u001b[38;5;66;03m# convert dict to utterances\u001b[39;00m\n\u001b[0;32m--> 168\u001b[0m     loaded_corpus[\u001b[38;5;124m'\u001b[39m\u001b[38;5;124minterviews\u001b[39m\u001b[38;5;124m'\u001b[39m] \u001b[38;5;241m=\u001b[39m loaded_corpus[\u001b[38;5;124m'\u001b[39m\u001b[38;5;124minterviews\u001b[39m\u001b[38;5;124m'\u001b[39m]\u001b[38;5;241m.\u001b[39mapply(\u001b[38;5;28;01mlambda\u001b[39;00m x: [Utterance()\u001b[38;5;241m.\u001b[39m_from_dict(utterance) \u001b[38;5;28;01mfor\u001b[39;00m utterance \u001b[38;5;129;01min\u001b[39;00m x])    \n\u001b[1;32m    169\u001b[0m \u001b[38;5;28;01mexcept\u001b[39;00m \u001b[38;5;167;01mException\u001b[39;00m \u001b[38;5;28;01mas\u001b[39;00m e:\n\u001b[1;32m    170\u001b[0m     \u001b[38;5;28mself\u001b[39m\u001b[38;5;241m.\u001b[39mlogger\u001b[38;5;241m.\u001b[39merror(\u001b[38;5;124mf\u001b[39m\u001b[38;5;124m\"\u001b[39m\u001b[38;5;124mError loading Corpus object: \u001b[39m\u001b[38;5;132;01m{\u001b[39;00me\u001b[38;5;132;01m}\u001b[39;00m\u001b[38;5;124m\"\u001b[39m)\n",
      "File \u001b[0;32m~/Code_repo/psycholinguistic2125/ssi-toolbox-fr/tutos/../ssi_toolbox/data_classes.py:168\u001b[0m, in \u001b[0;36m<listcomp>\u001b[0;34m(.0)\u001b[0m\n\u001b[1;32m    166\u001b[0m     loaded_corpus \u001b[38;5;241m=\u001b[39m pd\u001b[38;5;241m.\u001b[39mread_pickle(file_path)\n\u001b[1;32m    167\u001b[0m     \u001b[38;5;66;03m# convert dict to utterances\u001b[39;00m\n\u001b[0;32m--> 168\u001b[0m     loaded_corpus[\u001b[38;5;124m'\u001b[39m\u001b[38;5;124minterviews\u001b[39m\u001b[38;5;124m'\u001b[39m] \u001b[38;5;241m=\u001b[39m loaded_corpus[\u001b[38;5;124m'\u001b[39m\u001b[38;5;124minterviews\u001b[39m\u001b[38;5;124m'\u001b[39m]\u001b[38;5;241m.\u001b[39mapply(\u001b[38;5;28;01mlambda\u001b[39;00m x: [\u001b[43mUtterance\u001b[49m\u001b[43m(\u001b[49m\u001b[43m)\u001b[49m\u001b[38;5;241m.\u001b[39m_from_dict(utterance) \u001b[38;5;28;01mfor\u001b[39;00m utterance \u001b[38;5;129;01min\u001b[39;00m x])    \n\u001b[1;32m    169\u001b[0m \u001b[38;5;28;01mexcept\u001b[39;00m \u001b[38;5;167;01mException\u001b[39;00m \u001b[38;5;28;01mas\u001b[39;00m e:\n\u001b[1;32m    170\u001b[0m     \u001b[38;5;28mself\u001b[39m\u001b[38;5;241m.\u001b[39mlogger\u001b[38;5;241m.\u001b[39merror(\u001b[38;5;124mf\u001b[39m\u001b[38;5;124m\"\u001b[39m\u001b[38;5;124mError loading Corpus object: \u001b[39m\u001b[38;5;132;01m{\u001b[39;00me\u001b[38;5;132;01m}\u001b[39;00m\u001b[38;5;124m\"\u001b[39m)\n",
      "\u001b[0;31mTypeError\u001b[0m: __init__() missing 4 required positional arguments: 'text', 'start_time', 'end_time', and 'speaker'"
     ]
    }
   ],
   "source": [
    "df_test = corpus.load_corpus_from_pickle(\"df_13_novembre_phase1.pkl\")"
   ]
  },
  {
   "cell_type": "code",
   "execution_count": 5,
   "metadata": {},
   "outputs": [],
   "source": [
    "import pickle\n",
    "with open(\"13_novembre_phase1.pkl\", 'wb') as file:\n",
    "        pickle.dump(corpus, file)"
   ]
  },
  {
   "cell_type": "code",
   "execution_count": 24,
   "metadata": {},
   "outputs": [],
   "source": [
    "def test_vect_legth(corpus):\n",
    "    for j in range(len(corpus.corpus['interviews'])):\n",
    "        for i in range(len(corpus.corpus['interviews'][j])):\n",
    "            assert len(corpus.corpus['interviews'][j][i].trf_sentence_vect) == len(corpus.corpus['interviews'][j][i].sentences)\n",
    "            assert len(corpus.corpus['interviews'][j][i].w2v_sentence_vect) == len(corpus.corpus['interviews'][j][i].sentences)\n",
    "            assert len(corpus.corpus['interviews'][j][i].fasttext_sentence_vect) == len(corpus.corpus['interviews'][j][i].sentences)"
   ]
  },
  {
   "cell_type": "code",
   "execution_count": 27,
   "metadata": {},
   "outputs": [
    {
     "data": {
      "text/plain": [
       "0      7.930769\n",
       "1      7.821429\n",
       "2      3.633333\n",
       "3      4.402062\n",
       "4      4.984127\n",
       "         ...   \n",
       "921    2.673684\n",
       "922    2.620155\n",
       "923    7.180328\n",
       "924    1.786885\n",
       "925    3.088889\n",
       "Name: sentences_numbers, Length: 926, dtype: float64"
      ]
     },
     "execution_count": 27,
     "metadata": {},
     "output_type": "execute_result"
    }
   ],
   "source": [
    "import numpy as np\n",
    "corpus.corpus['sentences_numbers'] = corpus.corpus['interviews'].apply(lambda x: [len(u.sentences) for u in x])\n",
    "corpus.corpus['sentences_numbers'].apply(lambda x: np.mean(x))"
   ]
  },
  {
   "cell_type": "code",
   "execution_count": 13,
   "metadata": {},
   "outputs": [],
   "source": [
    "import pickle\n",
    "with open(\"test.pkl\", 'wb') as file:\n",
    "        pickle.dump(corpus, file)"
   ]
  },
  {
   "cell_type": "code",
   "execution_count": 5,
   "metadata": {},
   "outputs": [
    {
     "name": "stderr",
     "output_type": "stream",
     "text": [
      "/home/robin/env/ssi_toolbox/lib/python3.9/site-packages/tqdm/auto.py:21: TqdmWarning: IProgress not found. Please update jupyter and ipywidgets. See https://ipywidgets.readthedocs.io/en/stable/user_install.html\n",
      "  from .autonotebook import tqdm as notebook_tqdm\n"
     ]
    }
   ],
   "source": [
    "from sentence_transformers import SentenceTransformer\n",
    "sentences = [\"This is an example sentence\", \"Each sentence is converted\"]\n",
    "\n",
    "model = SentenceTransformer('sentence-transformers/paraphrase-multilingual-MiniLM-L12-v2')\n",
    "embeddings = model.encode(sentences)"
   ]
  },
  {
   "cell_type": "code",
   "execution_count": 6,
   "metadata": {},
   "outputs": [
    {
     "data": {
      "text/plain": [
       "array([[ 0.18845682,  0.17425628,  0.05447781,  0.29051757,  0.1676641 ,\n",
       "        -0.04720675,  0.6455802 ,  0.15980887,  0.22689246, -0.03089052,\n",
       "         0.25588354, -0.05258771, -0.2261014 , -0.05710635,  0.13042626,\n",
       "         0.12495346,  0.3174961 ,  0.19444394, -0.5863256 , -0.01258595,\n",
       "         0.6099092 ,  0.1643274 ,  0.03331116, -0.27383074, -0.28975752,\n",
       "        -0.21119706, -0.02261392, -0.17035915,  0.16159011,  0.06082734,\n",
       "        -0.2416242 ,  0.18579197,  0.42740962,  0.1929518 , -0.07234462,\n",
       "         0.16611083,  0.10442806,  0.20477226,  0.21116723,  0.19973996,\n",
       "        -0.09408263, -0.17383674,  0.06427363,  0.28025478, -0.29530588,\n",
       "         0.0620954 ,  0.10427681, -0.02364426,  0.12913178, -0.12617466,\n",
       "        -0.1789901 ,  0.03700569, -0.61250603,  0.05029814,  0.17730355,\n",
       "         0.22494122,  0.17386058, -0.03840293, -0.21286812,  0.25849247,\n",
       "        -0.12101637,  0.3097151 , -0.41966382,  0.00907678,  0.14188913,\n",
       "        -0.3055694 ,  0.17621139, -0.07087354, -0.6203313 ,  0.67708343,\n",
       "         0.01723743,  0.1840512 , -0.16785781,  0.2045265 , -0.14770271,\n",
       "        -0.0617536 ,  0.6301743 ,  0.11120179,  0.05153058,  0.15927424,\n",
       "        -0.05370894,  0.05350967,  0.14135513,  0.11239243, -0.48411798,\n",
       "        -0.16993625, -0.05321794,  0.27650326,  0.11777693, -0.34912518,\n",
       "        -0.51375544, -0.32844046,  0.5424045 , -0.05326692,  0.22918329,\n",
       "        -0.01275974,  0.10331822, -0.33627796,  0.2476498 ,  0.8155243 ,\n",
       "        -0.08930916,  0.24757893, -0.12043506,  0.01898992,  0.32457092,\n",
       "        -0.26162422, -0.19714792,  0.01440961, -0.03558908, -0.32742977,\n",
       "        -0.04829871,  0.18030526,  0.0231214 , -0.14245263, -0.19523907,\n",
       "        -0.5549116 ,  0.04146001, -0.08038598, -0.1290992 ,  0.3454117 ,\n",
       "         0.04179804, -0.17788365,  0.3445856 ,  0.10763664,  0.0064132 ,\n",
       "        -0.80818737,  0.1831181 , -0.06116302,  0.10278971, -0.35960677,\n",
       "        -0.12100702, -0.31905484,  0.14434472,  0.19774671, -0.04758288,\n",
       "        -0.13626695,  0.2791587 ,  0.10766137, -0.03404963,  0.06557191,\n",
       "         0.03390288,  0.47428307,  0.03201593,  0.4382312 , -0.18881224,\n",
       "         0.3911015 , -0.2936493 , -0.09019409, -0.08186892,  0.15285051,\n",
       "         0.11806719, -0.29786888,  0.18289231, -0.23518273, -0.04338414,\n",
       "        -0.08308797, -0.01447847,  0.08936615,  0.11753743, -0.06312164,\n",
       "        -0.13069408,  0.16051386, -0.07993039,  0.04523434, -0.1163742 ,\n",
       "        -0.19606245,  0.0394399 , -0.34911746, -0.01147582,  0.26085484,\n",
       "         0.31661972, -0.08063631, -0.18066713,  0.02020085, -0.08835132,\n",
       "        -0.01678058, -0.38134593,  0.15447439, -0.03228494,  0.01385772,\n",
       "         0.3147257 , -0.29187742, -0.11789729, -0.02333086, -0.22907735,\n",
       "         0.2485081 , -0.08262312,  0.17519872,  0.07053155,  0.17890432,\n",
       "        -0.19748043,  0.11594965,  0.22957738,  0.08844831, -0.34138516,\n",
       "        -0.00305387,  0.4403534 ,  0.20765054, -0.23839886,  0.14549927,\n",
       "        -0.32511145, -0.04974949,  0.08412293, -0.26103276,  0.42206794,\n",
       "        -0.27341732,  0.22958668, -0.18960802, -0.1734376 , -0.04636098,\n",
       "         0.125531  ,  0.4785326 , -0.5529562 ,  0.21560632,  0.06972299,\n",
       "         0.07278687, -0.23890154,  0.19889076, -0.4235428 , -0.1645273 ,\n",
       "        -0.22758166, -0.04920289,  0.23738699, -0.45531535, -0.0624704 ,\n",
       "         0.5811021 , -0.08885656, -0.05396935,  0.28655335, -0.48124048,\n",
       "        -0.06124142, -0.2811629 ,  0.36897907, -0.2953122 , -0.7186569 ,\n",
       "        -0.38774464, -0.16324666,  0.13904098, -0.02087944, -0.05228804,\n",
       "        -0.10613584, -0.05529146, -0.06380254,  0.02985428,  0.01341958,\n",
       "         0.0126342 ,  0.11067457, -0.07000599, -0.01710513,  0.10809217,\n",
       "        -0.11134929, -0.42874828, -0.33341154,  0.14569524, -0.24261563,\n",
       "         0.1518131 , -0.08179664,  0.24336214, -0.3774543 ,  0.08149572,\n",
       "         0.0922083 , -0.27653462,  0.04063629,  0.20002258, -0.047844  ,\n",
       "        -0.40510842,  0.18088542,  0.08081255,  0.02778459,  0.1497763 ,\n",
       "        -0.4525285 , -0.06112533,  0.22713467, -0.1309614 , -0.29849115,\n",
       "        -0.15302697, -0.26123837, -0.221886  ,  0.04267636, -0.20062748,\n",
       "        -0.02200283, -0.49436888,  0.5353336 , -0.02982702, -0.01962638,\n",
       "         0.05706301,  0.17869134,  0.3115847 ,  0.3637424 ,  0.21134546,\n",
       "        -0.39374962,  0.17488782,  0.01140854, -0.10499527, -0.14383793,\n",
       "        -0.10661028, -0.43856126,  0.04653317, -0.26895496, -0.03211484,\n",
       "         0.31267288, -0.2874717 , -0.3052495 , -0.02647266,  0.2525023 ,\n",
       "        -0.1886421 ,  0.21024214,  0.07654762, -0.31655508,  0.13155586,\n",
       "        -0.02851379,  0.26622114, -0.4398152 ,  0.33574787, -0.02058753,\n",
       "        -0.2281361 , -0.18404229,  0.15129352, -0.20930645, -0.45565373,\n",
       "         0.09736749, -0.173939  , -0.12940055, -0.11562889,  0.27910304,\n",
       "        -0.15251717,  0.16353628, -0.18450578, -0.00569293, -0.3015109 ,\n",
       "        -0.10034243,  0.33604607, -0.01101639,  0.01471761, -0.07627992,\n",
       "         0.78714746, -0.28120595, -0.23819901,  0.10064659,  0.5990074 ,\n",
       "         0.50067765,  0.15818897, -0.29037476,  0.06542079, -0.14885981,\n",
       "         0.06843901, -0.03958025,  0.14649294, -0.14633441,  0.17913024,\n",
       "         0.28052378,  0.36252975, -0.31337693, -0.04091794, -0.07653171,\n",
       "         0.15323572,  0.19257905, -0.3736528 ,  0.09541655, -0.28398466,\n",
       "        -0.00148432, -0.0492624 ,  0.44722304,  0.6577469 ,  0.16523829,\n",
       "         0.05867776, -0.40437824, -0.07801346, -0.25537843, -0.3610232 ,\n",
       "        -0.09678129, -0.14205818,  0.14746188,  0.09517755,  0.05682939,\n",
       "        -0.17478278,  0.26147896,  0.1411474 ,  0.12460979,  0.08857526,\n",
       "         0.18453877,  0.2709023 ,  0.34769502,  0.08729659],\n",
       "       [ 0.34707662,  0.17975065,  0.11288969, -0.22380017, -0.02937523,\n",
       "         0.00868661,  0.56885684, -0.17423831,  0.15573618,  0.05918529,\n",
       "         0.04771042,  0.11906723,  0.06961226, -0.39164928, -0.11649476,\n",
       "         0.39683264, -0.16703582,  0.42248803, -0.6075648 , -0.23209135,\n",
       "         0.06476661,  0.1661586 , -0.23384622, -0.11623365,  0.09024553,\n",
       "         0.33958393, -0.16615482, -0.29775572, -0.01450217, -0.31055218,\n",
       "        -0.02961076,  0.44532567,  0.44516325, -0.0163126 , -0.12811206,\n",
       "         0.29556134, -0.44812796,  0.38878638,  0.165114  ,  0.12342685,\n",
       "        -0.3238552 , -0.08443242,  0.17806554,  0.05183263,  0.31275326,\n",
       "         0.0646104 , -0.3461043 , -0.01012797, -0.07875682,  0.3103397 ,\n",
       "        -0.10869156,  0.07183919, -0.4849517 ,  0.5769386 ,  0.1336011 ,\n",
       "         0.02629785, -0.25099742,  0.37116393, -0.10699204, -0.1774644 ,\n",
       "        -0.09543911,  0.18270274, -0.5296059 ,  0.22841324, -0.02978975,\n",
       "        -0.1332512 ,  0.3540959 , -0.00828862, -0.24981049,  0.5316182 ,\n",
       "        -0.17178151,  0.09505124,  0.27921167, -0.36492953, -0.15713847,\n",
       "         0.28872284,  0.2030418 ,  0.05974208,  0.1312765 ,  0.05664809,\n",
       "        -0.06217057,  0.21466278,  0.11609117, -0.39906025,  0.11946694,\n",
       "        -0.2489389 , -0.13256817,  0.44654873,  0.3125725 , -0.39313355,\n",
       "        -0.17129149, -0.5401933 ,  0.7123146 ,  0.08043354,  0.17059132,\n",
       "        -0.06945722, -0.18228094, -0.37247774,  0.56198066,  0.3643364 ,\n",
       "        -0.0875942 ,  0.5458481 , -0.03697036, -0.05890986, -0.26084915,\n",
       "        -0.2623258 , -0.07935368,  0.32174796,  0.14701353, -0.18558   ,\n",
       "        -0.32069564,  0.23243825,  0.30205423, -0.08602184,  0.00820178,\n",
       "        -0.150612  ,  0.27068543, -0.33172703,  0.00814679,  0.7361278 ,\n",
       "        -0.01074323,  0.09526198,  0.03116521,  0.16779833, -0.09472428,\n",
       "        -0.32779148,  0.15817583, -0.1108463 , -0.07533926, -0.28564066,\n",
       "         0.08807822,  0.12668467, -0.05417138,  0.13834663, -0.17383298,\n",
       "        -0.17961374,  0.15913582, -0.13249199, -0.0249872 , -0.02863702,\n",
       "         0.22149897,  0.41240945, -0.09995227,  0.3916579 , -0.0302321 ,\n",
       "         0.196573  , -0.50895715, -0.13262288, -0.08178656,  0.3129861 ,\n",
       "        -0.24409059, -0.15581371, -0.27632204, -0.26031095,  0.02606725,\n",
       "         0.1595186 , -0.02367775, -0.05711324, -0.2129439 ,  0.08174986,\n",
       "        -0.08173845,  0.19129173, -0.2987017 ,  0.19334708,  0.26285157,\n",
       "         0.07807022,  0.08929738,  0.18175295, -0.24137008, -0.00128369,\n",
       "         0.5129107 , -0.24898432, -0.2827512 , -0.3293905 , -0.27734917,\n",
       "         0.30010805, -0.10644301,  0.1497767 ,  0.20152768,  0.14604998,\n",
       "         0.08155499, -0.15151131, -0.36765534,  0.28511235, -0.20097062,\n",
       "         0.04080798, -0.4555478 ,  0.08342908, -0.07359838,  0.29587796,\n",
       "         0.05567519, -0.3490295 ,  0.0990179 , -0.01793122, -0.25333768,\n",
       "        -0.05929404,  0.2136771 ,  0.21086907, -0.5560664 ,  0.12414753,\n",
       "         0.04702988,  0.0611354 , -0.00192894, -0.47759977,  0.18244496,\n",
       "         0.07414559, -0.39272016, -0.17483976, -0.0664869 ,  0.289292  ,\n",
       "        -0.00717124,  0.13004665,  0.3454354 ,  0.00546771,  0.2757414 ,\n",
       "         0.07198478, -0.00558611, -0.22266826,  0.02625502, -0.3982285 ,\n",
       "         0.16638325, -0.38634896,  0.36284992, -0.21355103, -0.21243037,\n",
       "         0.66783863, -0.19671023,  0.32093576, -0.17523861, -0.3111673 ,\n",
       "        -0.26940396, -0.06794311,  0.05132959, -0.43308288, -0.06844478,\n",
       "        -0.25163183, -0.23884177,  0.04973098, -0.18011384,  0.0287586 ,\n",
       "         0.10885788,  0.39926633,  0.01026699,  0.04654562,  0.04425446,\n",
       "         0.18722244, -0.06429298,  0.05355748, -0.15590549, -0.10054179,\n",
       "         0.2932987 , -0.04835658,  0.0229905 ,  0.31000942, -0.06247507,\n",
       "         0.02948096, -0.32953903,  0.5130008 , -0.3465161 , -0.19149865,\n",
       "         0.26188555, -0.02514718, -0.10117871,  0.69044214,  0.2868392 ,\n",
       "        -0.42476043, -0.34004545, -0.02383408,  0.03670339, -0.21457781,\n",
       "        -0.31357569,  0.06676681, -0.06548517, -0.14639935,  0.1819253 ,\n",
       "        -0.15907082, -0.49846765, -0.21165814,  0.11630951, -0.269926  ,\n",
       "         0.16266486, -0.64319384,  0.32003587,  0.08476806, -0.0083398 ,\n",
       "         0.1346939 ,  0.20395759, -0.04883536,  0.2293456 ,  0.12962984,\n",
       "        -0.28847152, -0.01838069,  0.16635735, -0.25723925, -0.18950155,\n",
       "         0.26680598, -0.53406245,  0.03297402, -0.1600527 , -0.3482897 ,\n",
       "        -0.13480656, -0.07903045, -0.40037203,  0.23914872, -0.18939845,\n",
       "        -0.22996102, -0.26500914,  0.3055    , -0.21577819,  0.12839952,\n",
       "         0.22074066,  0.0246554 , -0.37391216,  0.34780636, -0.16085589,\n",
       "        -0.03523715,  0.19708751,  0.0513861 , -0.24489076,  0.04642856,\n",
       "         0.10596155, -0.03903056, -0.39346665,  0.35392618,  0.26167682,\n",
       "        -0.20305446,  0.067142  , -0.29006296,  0.21563098, -0.11339244,\n",
       "        -0.1132576 ,  0.5838538 , -0.36256555,  0.09554901, -0.18850945,\n",
       "         0.5221064 ,  0.01045468,  0.08855104, -0.19684865,  0.5222598 ,\n",
       "         0.58784324,  0.07959567, -0.18018736, -0.02912605, -0.11641081,\n",
       "         0.3379931 ,  0.13571598,  0.01027508, -0.40844604, -0.1747562 ,\n",
       "         0.12402972,  0.12424026, -0.21745624,  0.26906416, -0.10524533,\n",
       "        -0.06161269,  0.46259734, -0.15411492,  0.23713912,  0.18526664,\n",
       "         0.09552385, -0.40052667,  0.03717383,  0.28664222, -0.29808182,\n",
       "        -0.22483228, -0.13735831, -0.21555284, -0.02228162, -0.22343765,\n",
       "        -0.21233964,  0.11212641,  0.06114588, -0.27714592,  0.28331044,\n",
       "        -0.2533837 ,  0.61102915,  0.34967226,  0.276926  ,  0.17295042,\n",
       "        -0.18559726,  0.3126667 ,  0.02952219, -0.2769554 ]],\n",
       "      dtype=float32)"
      ]
     },
     "execution_count": 6,
     "metadata": {},
     "output_type": "execute_result"
    }
   ],
   "source": [
    "embeddings"
   ]
  },
  {
   "cell_type": "code",
   "execution_count": 3,
   "metadata": {},
   "outputs": [
    {
     "data": {
      "text/plain": [
       "{'ENQ0016 ET ENQ0011',\n",
       " 'ENQ0016 ET ENQ0012',\n",
       " 'ENQ0016 ET ENQ0056',\n",
       " 'ENQ0023 ET ENQ0002',\n",
       " 'ENQ0028 ET ENQ0056'}"
      ]
     },
     "execution_count": 3,
     "metadata": {},
     "output_type": "execute_result"
    }
   ],
   "source": [
    "set(corpus.df_respondant_metadata.code_enq.unique()) - set(corpus.df_interviewer_metadata.code_enq.unique())"
   ]
  },
  {
   "cell_type": "code",
   "execution_count": 7,
   "metadata": {},
   "outputs": [
    {
     "data": {
      "text/plain": [
       "array(['ENQ0057', 'ENQ0032', 'ENQ0007', 'ENQ0033', 'ENQ0058', 'ENQ0059',\n",
       "       'ENQ0034', 'ENQ0060', 'ENQ0035', 'ENQ0015', 'ENQ0011', 'ENQ0061',\n",
       "       'ENQ0012', 'ENQ0054', 'ENQ0062', 'ENQ0001', 'ENQ0063', 'ENQ0064',\n",
       "       'ENQ0065', 'ENQ0066', 'ENQ0017', 'ENQ0021', 'ENQ0067', 'ENQ0068',\n",
       "       'ENQ0053', 'ENQ0029', 'ENQ0069', 'ENQ0052', 'ENQ0051', 'ENQ0005',\n",
       "       'ENQ0070', 'ENQ0071', 'ENQ0072', 'ENQ0073', 'ENQ0002', 'ENQ0074',\n",
       "       'ENQ0049', 'ENQ0048', 'ENQ0010', 'ENQ0075', 'ENQ0047', 'ENQ0003',\n",
       "       'ENQ0046', 'ENQ0004', 'ENQ0008', 'ENQ0006', 'ENQ0028', 'ENQ0045',\n",
       "       'ENQ0044', 'ENQ0027', 'ENQ0013', 'ENQ0009', 'ENQ0043', 'ENQ0014',\n",
       "       'ENQ0016', 'ENQ0042', 'ENQ0041', 'ENQ0076', 'ENQ0030', 'ENQ0077',\n",
       "       'ENQ0023', 'ENQ0019', 'ENQ0078', 'ENQ0055', 'ENQ0079', 'ENQ0040',\n",
       "       'ENQ0080', 'ENQ0039', 'ENQ0081', 'ENQ0082', 'ENQ0018', 'ENQ0022',\n",
       "       'ENQ0038', 'ENQ0083', 'ENQ0084', 'ENQ0024', 'ENQ0037', 'ENQ0025',\n",
       "       'ENQ0085', 'ENQ0031', 'ENQ0026', 'ENQ0020', 'ENQ0086', 'ENQ0036',\n",
       "       'ENQ0056'], dtype=object)"
      ]
     },
     "execution_count": 7,
     "metadata": {},
     "output_type": "execute_result"
    }
   ],
   "source": []
  },
  {
   "cell_type": "markdown",
   "metadata": {},
   "source": [
    "### Loading Data"
   ]
  },
  {
   "cell_type": "code",
   "execution_count": null,
   "metadata": {},
   "outputs": [],
   "source": [
    "# Load interviewer metadata\n",
    "interviewer_data = load_interviewer_data(config_path=\"config.yaml\")\n",
    "\n",
    "# Load respondent metadata\n",
    "respondant_data = load_respondant_data(config_path=\"config.yaml\")\n",
    "\n",
    "# Load interview data\n",
    "interview_data = load_interview_data(config_path=\"config.yaml\")\n",
    "\n",
    "# Load interview guide\n",
    "interview_guide = load_interview_guide(config_path=\"config.yaml\")"
   ]
  },
  {
   "cell_type": "markdown",
   "metadata": {},
   "source": [
    "###  Create Corpus\n",
    "\n",
    "Now that we have loaded the data, let's create a Corpus instance."
   ]
  },
  {
   "cell_type": "code",
   "execution_count": null,
   "metadata": {},
   "outputs": [],
   "source": [
    "corpus = Corpus(\n",
    "    df_interviewer_metadata=interviewer_data,\n",
    "    df_respondant_metadata=respondant_data,\n",
    "    interview_list=interview_data  # Assuming interview_data is a list of Interaction instances\n",
    ")\n"
   ]
  }
 ],
 "metadata": {
  "kernelspec": {
   "display_name": "ssi_toolbox",
   "language": "python",
   "name": "python3"
  },
  "language_info": {
   "codemirror_mode": {
    "name": "ipython",
    "version": 3
   },
   "file_extension": ".py",
   "mimetype": "text/x-python",
   "name": "python",
   "nbconvert_exporter": "python",
   "pygments_lexer": "ipython3",
   "version": "3.9.18"
  }
 },
 "nbformat": 4,
 "nbformat_minor": 2
}
